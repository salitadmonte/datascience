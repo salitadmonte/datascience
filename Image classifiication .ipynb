{
 "cells": [
  {
   "cell_type": "markdown",
   "metadata": {},
   "source": [
    "# Convolutional Neural Network Using Tensorflow on Custom Dataset"
   ]
  },
  {
   "cell_type": "code",
   "execution_count": 4,
   "metadata": {},
   "outputs": [
    {
     "name": "stdout",
     "output_type": "stream",
     "text": [
      "['High', 'Low', 'Medium']\n",
      "Severity of damage found:  3\n"
     ]
    }
   ],
   "source": [
    "import numpy as np \n",
    "import pandas as pd \n",
    "import matplotlib.pyplot as plt\n",
    "import os\n",
    "\n",
    "dataset_path = os.listdir(r'C:\\Users\\dell\\Documents\\RT project deep learning\\data1a\\Prac')\n",
    "\n",
    "severity = os.listdir(r'C:\\Users\\dell\\Documents\\RT project deep learning\\data1a\\Prac')\n",
    "print (room_types)  #what kinds of rooms are in this dataset\n",
    "\n",
    "print(\"Severity of damage found: \", len(dataset_path))\n"
   ]
  },
  {
   "cell_type": "code",
   "execution_count": 7,
   "metadata": {},
   "outputs": [
    {
     "name": "stdout",
     "output_type": "stream",
     "text": [
      "[('High', 'C:\\\\Users\\\\dell\\\\Documents\\\\RT project deep learning\\\\data1a\\\\Prac/High/0016.JPEG')]\n",
      "[('High', 'C:\\\\Users\\\\dell\\\\Documents\\\\RT project deep learning\\\\data1a\\\\Prac/High/0016.JPEG')]\n",
      "[('High', 'C:\\\\Users\\\\dell\\\\Documents\\\\RT project deep learning\\\\data1a\\\\Prac/High/0016.JPEG')]\n",
      "[('High', 'C:\\\\Users\\\\dell\\\\Documents\\\\RT project deep learning\\\\data1a\\\\Prac/High/0016.JPEG')]\n",
      "[('High', 'C:\\\\Users\\\\dell\\\\Documents\\\\RT project deep learning\\\\data1a\\\\Prac/High/0016.JPEG')]\n",
      "[('High', 'C:\\\\Users\\\\dell\\\\Documents\\\\RT project deep learning\\\\data1a\\\\Prac/High/0016.JPEG')]\n",
      "[('High', 'C:\\\\Users\\\\dell\\\\Documents\\\\RT project deep learning\\\\data1a\\\\Prac/High/0016.JPEG')]\n",
      "[('High', 'C:\\\\Users\\\\dell\\\\Documents\\\\RT project deep learning\\\\data1a\\\\Prac/High/0016.JPEG')]\n",
      "[('High', 'C:\\\\Users\\\\dell\\\\Documents\\\\RT project deep learning\\\\data1a\\\\Prac/High/0016.JPEG')]\n",
      "[('High', 'C:\\\\Users\\\\dell\\\\Documents\\\\RT project deep learning\\\\data1a\\\\Prac/High/0016.JPEG')]\n",
      "[('High', 'C:\\\\Users\\\\dell\\\\Documents\\\\RT project deep learning\\\\data1a\\\\Prac/High/0016.JPEG')]\n",
      "[('High', 'C:\\\\Users\\\\dell\\\\Documents\\\\RT project deep learning\\\\data1a\\\\Prac/High/0016.JPEG')]\n",
      "[('High', 'C:\\\\Users\\\\dell\\\\Documents\\\\RT project deep learning\\\\data1a\\\\Prac/High/0016.JPEG')]\n",
      "[('High', 'C:\\\\Users\\\\dell\\\\Documents\\\\RT project deep learning\\\\data1a\\\\Prac/High/0016.JPEG')]\n",
      "[('High', 'C:\\\\Users\\\\dell\\\\Documents\\\\RT project deep learning\\\\data1a\\\\Prac/High/0016.JPEG')]\n",
      "[('High', 'C:\\\\Users\\\\dell\\\\Documents\\\\RT project deep learning\\\\data1a\\\\Prac/High/0016.JPEG')]\n",
      "[('High', 'C:\\\\Users\\\\dell\\\\Documents\\\\RT project deep learning\\\\data1a\\\\Prac/High/0016.JPEG')]\n",
      "[('High', 'C:\\\\Users\\\\dell\\\\Documents\\\\RT project deep learning\\\\data1a\\\\Prac/High/0016.JPEG')]\n",
      "[('High', 'C:\\\\Users\\\\dell\\\\Documents\\\\RT project deep learning\\\\data1a\\\\Prac/High/0016.JPEG')]\n",
      "[('High', 'C:\\\\Users\\\\dell\\\\Documents\\\\RT project deep learning\\\\data1a\\\\Prac/High/0016.JPEG')]\n",
      "[('High', 'C:\\\\Users\\\\dell\\\\Documents\\\\RT project deep learning\\\\data1a\\\\Prac/High/0016.JPEG')]\n",
      "[('High', 'C:\\\\Users\\\\dell\\\\Documents\\\\RT project deep learning\\\\data1a\\\\Prac/High/0016.JPEG')]\n",
      "[('High', 'C:\\\\Users\\\\dell\\\\Documents\\\\RT project deep learning\\\\data1a\\\\Prac/High/0016.JPEG')]\n",
      "[('High', 'C:\\\\Users\\\\dell\\\\Documents\\\\RT project deep learning\\\\data1a\\\\Prac/High/0016.JPEG')]\n",
      "[('High', 'C:\\\\Users\\\\dell\\\\Documents\\\\RT project deep learning\\\\data1a\\\\Prac/High/0016.JPEG')]\n",
      "[('High', 'C:\\\\Users\\\\dell\\\\Documents\\\\RT project deep learning\\\\data1a\\\\Prac/High/0016.JPEG')]\n",
      "[('High', 'C:\\\\Users\\\\dell\\\\Documents\\\\RT project deep learning\\\\data1a\\\\Prac/High/0016.JPEG')]\n",
      "[('High', 'C:\\\\Users\\\\dell\\\\Documents\\\\RT project deep learning\\\\data1a\\\\Prac/High/0016.JPEG')]\n",
      "[('High', 'C:\\\\Users\\\\dell\\\\Documents\\\\RT project deep learning\\\\data1a\\\\Prac/High/0016.JPEG')]\n",
      "[('High', 'C:\\\\Users\\\\dell\\\\Documents\\\\RT project deep learning\\\\data1a\\\\Prac/High/0016.JPEG')]\n",
      "[('High', 'C:\\\\Users\\\\dell\\\\Documents\\\\RT project deep learning\\\\data1a\\\\Prac/High/0016.JPEG')]\n",
      "[('High', 'C:\\\\Users\\\\dell\\\\Documents\\\\RT project deep learning\\\\data1a\\\\Prac/High/0016.JPEG')]\n",
      "[('High', 'C:\\\\Users\\\\dell\\\\Documents\\\\RT project deep learning\\\\data1a\\\\Prac/High/0016.JPEG')]\n",
      "[('High', 'C:\\\\Users\\\\dell\\\\Documents\\\\RT project deep learning\\\\data1a\\\\Prac/High/0016.JPEG')]\n",
      "[('High', 'C:\\\\Users\\\\dell\\\\Documents\\\\RT project deep learning\\\\data1a\\\\Prac/High/0016.JPEG')]\n",
      "[('High', 'C:\\\\Users\\\\dell\\\\Documents\\\\RT project deep learning\\\\data1a\\\\Prac/High/0016.JPEG')]\n",
      "[('High', 'C:\\\\Users\\\\dell\\\\Documents\\\\RT project deep learning\\\\data1a\\\\Prac/High/0016.JPEG')]\n",
      "[('High', 'C:\\\\Users\\\\dell\\\\Documents\\\\RT project deep learning\\\\data1a\\\\Prac/High/0016.JPEG')]\n",
      "[('High', 'C:\\\\Users\\\\dell\\\\Documents\\\\RT project deep learning\\\\data1a\\\\Prac/High/0016.JPEG')]\n",
      "[('High', 'C:\\\\Users\\\\dell\\\\Documents\\\\RT project deep learning\\\\data1a\\\\Prac/High/0016.JPEG')]\n",
      "[('High', 'C:\\\\Users\\\\dell\\\\Documents\\\\RT project deep learning\\\\data1a\\\\Prac/High/0016.JPEG')]\n",
      "[('High', 'C:\\\\Users\\\\dell\\\\Documents\\\\RT project deep learning\\\\data1a\\\\Prac/High/0016.JPEG')]\n",
      "[('High', 'C:\\\\Users\\\\dell\\\\Documents\\\\RT project deep learning\\\\data1a\\\\Prac/High/0016.JPEG')]\n",
      "[('High', 'C:\\\\Users\\\\dell\\\\Documents\\\\RT project deep learning\\\\data1a\\\\Prac/High/0016.JPEG')]\n",
      "[('High', 'C:\\\\Users\\\\dell\\\\Documents\\\\RT project deep learning\\\\data1a\\\\Prac/High/0016.JPEG')]\n",
      "[('High', 'C:\\\\Users\\\\dell\\\\Documents\\\\RT project deep learning\\\\data1a\\\\Prac/High/0016.JPEG')]\n",
      "[('High', 'C:\\\\Users\\\\dell\\\\Documents\\\\RT project deep learning\\\\data1a\\\\Prac/High/0016.JPEG')]\n",
      "[('High', 'C:\\\\Users\\\\dell\\\\Documents\\\\RT project deep learning\\\\data1a\\\\Prac/High/0016.JPEG')]\n",
      "[('High', 'C:\\\\Users\\\\dell\\\\Documents\\\\RT project deep learning\\\\data1a\\\\Prac/High/0016.JPEG')]\n",
      "[('High', 'C:\\\\Users\\\\dell\\\\Documents\\\\RT project deep learning\\\\data1a\\\\Prac/High/0016.JPEG')]\n",
      "[('High', 'C:\\\\Users\\\\dell\\\\Documents\\\\RT project deep learning\\\\data1a\\\\Prac/High/0016.JPEG')]\n",
      "[('High', 'C:\\\\Users\\\\dell\\\\Documents\\\\RT project deep learning\\\\data1a\\\\Prac/High/0016.JPEG')]\n",
      "[('High', 'C:\\\\Users\\\\dell\\\\Documents\\\\RT project deep learning\\\\data1a\\\\Prac/High/0016.JPEG')]\n",
      "[('High', 'C:\\\\Users\\\\dell\\\\Documents\\\\RT project deep learning\\\\data1a\\\\Prac/High/0016.JPEG')]\n",
      "[('High', 'C:\\\\Users\\\\dell\\\\Documents\\\\RT project deep learning\\\\data1a\\\\Prac/High/0016.JPEG')]\n",
      "[('High', 'C:\\\\Users\\\\dell\\\\Documents\\\\RT project deep learning\\\\data1a\\\\Prac/High/0016.JPEG')]\n",
      "[('High', 'C:\\\\Users\\\\dell\\\\Documents\\\\RT project deep learning\\\\data1a\\\\Prac/High/0016.JPEG')]\n",
      "[('High', 'C:\\\\Users\\\\dell\\\\Documents\\\\RT project deep learning\\\\data1a\\\\Prac/High/0016.JPEG')]\n",
      "[('High', 'C:\\\\Users\\\\dell\\\\Documents\\\\RT project deep learning\\\\data1a\\\\Prac/High/0016.JPEG')]\n",
      "[('High', 'C:\\\\Users\\\\dell\\\\Documents\\\\RT project deep learning\\\\data1a\\\\Prac/High/0016.JPEG')]\n",
      "[('High', 'C:\\\\Users\\\\dell\\\\Documents\\\\RT project deep learning\\\\data1a\\\\Prac/High/0016.JPEG')]\n",
      "[('High', 'C:\\\\Users\\\\dell\\\\Documents\\\\RT project deep learning\\\\data1a\\\\Prac/High/0016.JPEG')]\n",
      "[('High', 'C:\\\\Users\\\\dell\\\\Documents\\\\RT project deep learning\\\\data1a\\\\Prac/High/0016.JPEG')]\n",
      "[('High', 'C:\\\\Users\\\\dell\\\\Documents\\\\RT project deep learning\\\\data1a\\\\Prac/High/0016.JPEG')]\n",
      "[('High', 'C:\\\\Users\\\\dell\\\\Documents\\\\RT project deep learning\\\\data1a\\\\Prac/High/0016.JPEG')]\n",
      "[('High', 'C:\\\\Users\\\\dell\\\\Documents\\\\RT project deep learning\\\\data1a\\\\Prac/High/0016.JPEG')]\n",
      "[('High', 'C:\\\\Users\\\\dell\\\\Documents\\\\RT project deep learning\\\\data1a\\\\Prac/High/0016.JPEG')]\n",
      "[('High', 'C:\\\\Users\\\\dell\\\\Documents\\\\RT project deep learning\\\\data1a\\\\Prac/High/0016.JPEG')]\n",
      "[('High', 'C:\\\\Users\\\\dell\\\\Documents\\\\RT project deep learning\\\\data1a\\\\Prac/High/0016.JPEG')]\n",
      "[('High', 'C:\\\\Users\\\\dell\\\\Documents\\\\RT project deep learning\\\\data1a\\\\Prac/High/0016.JPEG')]\n",
      "[('High', 'C:\\\\Users\\\\dell\\\\Documents\\\\RT project deep learning\\\\data1a\\\\Prac/High/0016.JPEG')]\n",
      "[('High', 'C:\\\\Users\\\\dell\\\\Documents\\\\RT project deep learning\\\\data1a\\\\Prac/High/0016.JPEG')]\n",
      "[('High', 'C:\\\\Users\\\\dell\\\\Documents\\\\RT project deep learning\\\\data1a\\\\Prac/High/0016.JPEG')]\n",
      "[('High', 'C:\\\\Users\\\\dell\\\\Documents\\\\RT project deep learning\\\\data1a\\\\Prac/High/0016.JPEG')]\n",
      "[('High', 'C:\\\\Users\\\\dell\\\\Documents\\\\RT project deep learning\\\\data1a\\\\Prac/High/0016.JPEG')]\n",
      "[('High', 'C:\\\\Users\\\\dell\\\\Documents\\\\RT project deep learning\\\\data1a\\\\Prac/High/0016.JPEG')]\n",
      "[('High', 'C:\\\\Users\\\\dell\\\\Documents\\\\RT project deep learning\\\\data1a\\\\Prac/High/0016.JPEG')]\n",
      "[('High', 'C:\\\\Users\\\\dell\\\\Documents\\\\RT project deep learning\\\\data1a\\\\Prac/High/0016.JPEG')]\n",
      "[('High', 'C:\\\\Users\\\\dell\\\\Documents\\\\RT project deep learning\\\\data1a\\\\Prac/High/0016.JPEG')]\n",
      "[('High', 'C:\\\\Users\\\\dell\\\\Documents\\\\RT project deep learning\\\\data1a\\\\Prac/High/0016.JPEG')]\n",
      "[('High', 'C:\\\\Users\\\\dell\\\\Documents\\\\RT project deep learning\\\\data1a\\\\Prac/High/0016.JPEG')]\n",
      "[('High', 'C:\\\\Users\\\\dell\\\\Documents\\\\RT project deep learning\\\\data1a\\\\Prac/High/0016.JPEG')]\n",
      "[('High', 'C:\\\\Users\\\\dell\\\\Documents\\\\RT project deep learning\\\\data1a\\\\Prac/High/0016.JPEG')]\n",
      "[('High', 'C:\\\\Users\\\\dell\\\\Documents\\\\RT project deep learning\\\\data1a\\\\Prac/High/0016.JPEG')]\n",
      "[('High', 'C:\\\\Users\\\\dell\\\\Documents\\\\RT project deep learning\\\\data1a\\\\Prac/High/0016.JPEG')]\n",
      "[('High', 'C:\\\\Users\\\\dell\\\\Documents\\\\RT project deep learning\\\\data1a\\\\Prac/High/0016.JPEG')]\n",
      "[('High', 'C:\\\\Users\\\\dell\\\\Documents\\\\RT project deep learning\\\\data1a\\\\Prac/High/0016.JPEG')]\n",
      "[('High', 'C:\\\\Users\\\\dell\\\\Documents\\\\RT project deep learning\\\\data1a\\\\Prac/High/0016.JPEG')]\n",
      "[('High', 'C:\\\\Users\\\\dell\\\\Documents\\\\RT project deep learning\\\\data1a\\\\Prac/High/0016.JPEG')]\n",
      "[('High', 'C:\\\\Users\\\\dell\\\\Documents\\\\RT project deep learning\\\\data1a\\\\Prac/High/0016.JPEG')]\n",
      "[('High', 'C:\\\\Users\\\\dell\\\\Documents\\\\RT project deep learning\\\\data1a\\\\Prac/High/0016.JPEG')]\n",
      "[('High', 'C:\\\\Users\\\\dell\\\\Documents\\\\RT project deep learning\\\\data1a\\\\Prac/High/0016.JPEG')]\n",
      "[('High', 'C:\\\\Users\\\\dell\\\\Documents\\\\RT project deep learning\\\\data1a\\\\Prac/High/0016.JPEG')]\n",
      "[('High', 'C:\\\\Users\\\\dell\\\\Documents\\\\RT project deep learning\\\\data1a\\\\Prac/High/0016.JPEG')]\n",
      "[('High', 'C:\\\\Users\\\\dell\\\\Documents\\\\RT project deep learning\\\\data1a\\\\Prac/High/0016.JPEG')]\n",
      "[('High', 'C:\\\\Users\\\\dell\\\\Documents\\\\RT project deep learning\\\\data1a\\\\Prac/High/0016.JPEG')]\n",
      "[('High', 'C:\\\\Users\\\\dell\\\\Documents\\\\RT project deep learning\\\\data1a\\\\Prac/High/0016.JPEG')]\n",
      "[('High', 'C:\\\\Users\\\\dell\\\\Documents\\\\RT project deep learning\\\\data1a\\\\Prac/High/0016.JPEG')]\n",
      "[('High', 'C:\\\\Users\\\\dell\\\\Documents\\\\RT project deep learning\\\\data1a\\\\Prac/High/0016.JPEG')]\n",
      "[('High', 'C:\\\\Users\\\\dell\\\\Documents\\\\RT project deep learning\\\\data1a\\\\Prac/High/0016.JPEG')]\n",
      "[('High', 'C:\\\\Users\\\\dell\\\\Documents\\\\RT project deep learning\\\\data1a\\\\Prac/High/0016.JPEG')]\n",
      "[('High', 'C:\\\\Users\\\\dell\\\\Documents\\\\RT project deep learning\\\\data1a\\\\Prac/High/0016.JPEG')]\n",
      "[('High', 'C:\\\\Users\\\\dell\\\\Documents\\\\RT project deep learning\\\\data1a\\\\Prac/High/0016.JPEG')]\n",
      "[('High', 'C:\\\\Users\\\\dell\\\\Documents\\\\RT project deep learning\\\\data1a\\\\Prac/High/0016.JPEG')]\n",
      "[('High', 'C:\\\\Users\\\\dell\\\\Documents\\\\RT project deep learning\\\\data1a\\\\Prac/High/0016.JPEG')]\n",
      "[('High', 'C:\\\\Users\\\\dell\\\\Documents\\\\RT project deep learning\\\\data1a\\\\Prac/High/0016.JPEG')]\n",
      "[('High', 'C:\\\\Users\\\\dell\\\\Documents\\\\RT project deep learning\\\\data1a\\\\Prac/High/0016.JPEG')]\n",
      "[('High', 'C:\\\\Users\\\\dell\\\\Documents\\\\RT project deep learning\\\\data1a\\\\Prac/High/0016.JPEG')]\n",
      "[('High', 'C:\\\\Users\\\\dell\\\\Documents\\\\RT project deep learning\\\\data1a\\\\Prac/High/0016.JPEG')]\n",
      "[('High', 'C:\\\\Users\\\\dell\\\\Documents\\\\RT project deep learning\\\\data1a\\\\Prac/High/0016.JPEG')]\n",
      "[('High', 'C:\\\\Users\\\\dell\\\\Documents\\\\RT project deep learning\\\\data1a\\\\Prac/High/0016.JPEG')]\n",
      "[('High', 'C:\\\\Users\\\\dell\\\\Documents\\\\RT project deep learning\\\\data1a\\\\Prac/High/0016.JPEG')]\n",
      "[('High', 'C:\\\\Users\\\\dell\\\\Documents\\\\RT project deep learning\\\\data1a\\\\Prac/High/0016.JPEG')]\n",
      "[('High', 'C:\\\\Users\\\\dell\\\\Documents\\\\RT project deep learning\\\\data1a\\\\Prac/High/0016.JPEG')]\n",
      "[('High', 'C:\\\\Users\\\\dell\\\\Documents\\\\RT project deep learning\\\\data1a\\\\Prac/High/0016.JPEG')]\n",
      "[('High', 'C:\\\\Users\\\\dell\\\\Documents\\\\RT project deep learning\\\\data1a\\\\Prac/High/0016.JPEG')]\n",
      "[('High', 'C:\\\\Users\\\\dell\\\\Documents\\\\RT project deep learning\\\\data1a\\\\Prac/High/0016.JPEG')]\n",
      "[('High', 'C:\\\\Users\\\\dell\\\\Documents\\\\RT project deep learning\\\\data1a\\\\Prac/High/0016.JPEG')]\n",
      "[('High', 'C:\\\\Users\\\\dell\\\\Documents\\\\RT project deep learning\\\\data1a\\\\Prac/High/0016.JPEG')]\n",
      "[('High', 'C:\\\\Users\\\\dell\\\\Documents\\\\RT project deep learning\\\\data1a\\\\Prac/High/0016.JPEG')]\n",
      "[('High', 'C:\\\\Users\\\\dell\\\\Documents\\\\RT project deep learning\\\\data1a\\\\Prac/High/0016.JPEG')]\n",
      "[('High', 'C:\\\\Users\\\\dell\\\\Documents\\\\RT project deep learning\\\\data1a\\\\Prac/High/0016.JPEG')]\n",
      "[('High', 'C:\\\\Users\\\\dell\\\\Documents\\\\RT project deep learning\\\\data1a\\\\Prac/High/0016.JPEG')]\n",
      "[('High', 'C:\\\\Users\\\\dell\\\\Documents\\\\RT project deep learning\\\\data1a\\\\Prac/High/0016.JPEG')]\n",
      "[('High', 'C:\\\\Users\\\\dell\\\\Documents\\\\RT project deep learning\\\\data1a\\\\Prac/High/0016.JPEG')]\n",
      "[('High', 'C:\\\\Users\\\\dell\\\\Documents\\\\RT project deep learning\\\\data1a\\\\Prac/High/0016.JPEG')]\n",
      "[('High', 'C:\\\\Users\\\\dell\\\\Documents\\\\RT project deep learning\\\\data1a\\\\Prac/High/0016.JPEG')]\n",
      "[('High', 'C:\\\\Users\\\\dell\\\\Documents\\\\RT project deep learning\\\\data1a\\\\Prac/High/0016.JPEG')]\n",
      "[('High', 'C:\\\\Users\\\\dell\\\\Documents\\\\RT project deep learning\\\\data1a\\\\Prac/High/0016.JPEG')]\n",
      "[('High', 'C:\\\\Users\\\\dell\\\\Documents\\\\RT project deep learning\\\\data1a\\\\Prac/High/0016.JPEG')]\n",
      "[('High', 'C:\\\\Users\\\\dell\\\\Documents\\\\RT project deep learning\\\\data1a\\\\Prac/High/0016.JPEG')]\n",
      "[('High', 'C:\\\\Users\\\\dell\\\\Documents\\\\RT project deep learning\\\\data1a\\\\Prac/High/0016.JPEG')]\n",
      "[('High', 'C:\\\\Users\\\\dell\\\\Documents\\\\RT project deep learning\\\\data1a\\\\Prac/High/0016.JPEG')]\n",
      "[('High', 'C:\\\\Users\\\\dell\\\\Documents\\\\RT project deep learning\\\\data1a\\\\Prac/High/0016.JPEG')]\n",
      "[('High', 'C:\\\\Users\\\\dell\\\\Documents\\\\RT project deep learning\\\\data1a\\\\Prac/High/0016.JPEG')]\n"
     ]
    }
   ],
   "source": [
    "sev = []\n",
    "\n",
    "for item in severity:\n",
    " # Get all the file names\n",
    " all_sev = os.listdir(r'C:\\Users\\dell\\Documents\\RT project deep learning\\data1a\\Prac' + '/' +item)\n",
    " #print(all_shoes)\n",
    "\n",
    " # Add them to the list\n",
    " for i in all_sev:\n",
    "    sev.append((item, str(r'C:\\Users\\dell\\Documents\\RT project deep learning\\data1a\\Prac' + '/' +item) + '/' + i))\n",
    "    print(sev[:1])\n"
   ]
  },
  {
   "cell_type": "code",
   "execution_count": 8,
   "metadata": {},
   "outputs": [
    {
     "name": "stdout",
     "output_type": "stream",
     "text": [
      "  Severity type                                              image\n",
      "0          High  C:\\Users\\dell\\Documents\\RT project deep learni...\n",
      "1          High  C:\\Users\\dell\\Documents\\RT project deep learni...\n",
      "2          High  C:\\Users\\dell\\Documents\\RT project deep learni...\n",
      "3          High  C:\\Users\\dell\\Documents\\RT project deep learni...\n",
      "4          High  C:\\Users\\dell\\Documents\\RT project deep learni...\n",
      "    Severity type                                              image\n",
      "130        Medium  C:\\Users\\dell\\Documents\\RT project deep learni...\n",
      "131        Medium  C:\\Users\\dell\\Documents\\RT project deep learni...\n",
      "132        Medium  C:\\Users\\dell\\Documents\\RT project deep learni...\n",
      "133        Medium  C:\\Users\\dell\\Documents\\RT project deep learni...\n",
      "134        Medium  C:\\Users\\dell\\Documents\\RT project deep learni...\n"
     ]
    }
   ],
   "source": [
    "# Build a dataframe        \n",
    "sev_df = pd.DataFrame(data=sev, columns=['Severity type', 'image'])\n",
    "print(sev_df.head())\n",
    "print(sev_df.tail())"
   ]
  },
  {
   "cell_type": "code",
   "execution_count": 9,
   "metadata": {},
   "outputs": [
    {
     "name": "stdout",
     "output_type": "stream",
     "text": [
      "Total number of rooms in the dataset:  135\n"
     ]
    }
   ],
   "source": [
    "# Let's check how many samples for each category are present\n",
    "print(\"Total number of rooms in the dataset: \", len(sev_df))"
   ]
  },
  {
   "cell_type": "code",
   "execution_count": 11,
   "metadata": {},
   "outputs": [
    {
     "name": "stdout",
     "output_type": "stream",
     "text": [
      "Severity in each category: \n",
      "Low       51\n",
      "High      44\n",
      "Medium    40\n",
      "Name: Severity type, dtype: int64\n"
     ]
    }
   ],
   "source": [
    "sev_count = sev_df['Severity type'].value_counts()\n",
    "\n",
    "print(\"Severity in each category: \")\n",
    "print(sev_count)"
   ]
  },
  {
   "cell_type": "code",
   "execution_count": 12,
   "metadata": {},
   "outputs": [],
   "source": [
    "import cv2\n",
    "path = r'C:\\Users\\dell\\Documents\\RT project deep learning\\data1a\\Prac/'\n",
    "\n",
    "\n",
    "im_size = 60\n",
    "\n",
    "images = []\n",
    "labels = []\n",
    "\n",
    "for i in severity:\n",
    "    data_path = path + str(i)  # entered in 1st folder and then 2nd folder and then 3rd folder\n",
    "    #filenames = [i for i in os.listdir(data_path) if i.endswith('.jpg')]\n",
    "    filenames = [i for i in os.listdir(data_path) ]\n",
    "   # print(filenames)  # will get the names of all images which ends with .jpg extension\n",
    "    for f in filenames:\n",
    "        img = cv2.imread(data_path + '/' + f)  # reading that image as array\n",
    "        #print(img)  # will get the image as an array\n",
    "        img = cv2.resize(img, (im_size, im_size))\n",
    "        images.append(img)\n",
    "        labels.append(i)"
   ]
  },
  {
   "cell_type": "code",
   "execution_count": 13,
   "metadata": {},
   "outputs": [
    {
     "data": {
      "text/plain": [
       "(135, 60, 60, 3)"
      ]
     },
     "execution_count": 13,
     "metadata": {},
     "output_type": "execute_result"
    }
   ],
   "source": [
    "# Transform the image array to a numpy type\n",
    "\n",
    "images = np.array(images)\n",
    "\n",
    "images.shape"
   ]
  },
  {
   "cell_type": "code",
   "execution_count": 14,
   "metadata": {},
   "outputs": [],
   "source": [
    "images = images.astype('float32') / 255.0"
   ]
  },
  {
   "cell_type": "code",
   "execution_count": 15,
   "metadata": {},
   "outputs": [
    {
     "data": {
      "text/plain": [
       "(135, 60, 60, 3)"
      ]
     },
     "execution_count": 15,
     "metadata": {},
     "output_type": "execute_result"
    }
   ],
   "source": [
    "images.shape"
   ]
  },
  {
   "cell_type": "code",
   "execution_count": 16,
   "metadata": {},
   "outputs": [
    {
     "name": "stdout",
     "output_type": "stream",
     "text": [
      "['High' 'High' 'High' 'High' 'High']\n"
     ]
    }
   ],
   "source": [
    "from sklearn.preprocessing import LabelEncoder , OneHotEncoder\n",
    "\n",
    "\n",
    "y=sev_df['Severity type'].values\n",
    "print(y[:5])"
   ]
  },
  {
   "cell_type": "code",
   "execution_count": 17,
   "metadata": {},
   "outputs": [
    {
     "name": "stdout",
     "output_type": "stream",
     "text": [
      "[0 0 0 0 0 0 0 0 0 0 0 0 0 0 0 0 0 0 0 0 0 0 0 0 0 0 0 0 0 0 0 0 0 0 0 0 0\n",
      " 0 0 0 0 0 0 0 1 1 1 1 1 1 1 1 1 1 1 1 1 1 1 1 1 1 1 1 1 1 1 1 1 1 1 1 1 1\n",
      " 1 1 1 1 1 1 1 1 1 1 1 1 1 1 1 1 1 1 1 1 1 2 2 2 2 2 2 2 2 2 2 2 2 2 2 2 2\n",
      " 2 2 2 2 2 2 2 2 2 2 2 2 2 2 2 2 2 2 2 2 2 2 2 2]\n"
     ]
    }
   ],
   "source": [
    "# for y\n",
    "y_labelencoder = LabelEncoder ()\n",
    "y = y_labelencoder.fit_transform (y)\n",
    "print (y)"
   ]
  },
  {
   "cell_type": "code",
   "execution_count": 18,
   "metadata": {},
   "outputs": [
    {
     "name": "stdout",
     "output_type": "stream",
     "text": [
      "(135, 3)\n"
     ]
    }
   ],
   "source": [
    "y = y.reshape(-1, 1)\n",
    "onehotencoder = OneHotEncoder()\n",
    "Y = onehotencoder.fit_transform(y)\n",
    "print(Y.shape)"
   ]
  },
  {
   "cell_type": "code",
   "execution_count": 19,
   "metadata": {},
   "outputs": [
    {
     "name": "stdout",
     "output_type": "stream",
     "text": [
      "(128, 60, 60, 3)\n",
      "(128, 3)\n",
      "(7, 60, 60, 3)\n",
      "(7, 3)\n"
     ]
    }
   ],
   "source": [
    "\n",
    "from sklearn.utils import shuffle\n",
    "from sklearn.model_selection import train_test_split\n",
    "\n",
    "\n",
    "images, Y = shuffle(images, Y, random_state=1)\n",
    "\n",
    "train_x, test_x, train_y, test_y = train_test_split(images, Y, test_size=0.05, random_state=415)\n",
    "\n",
    "#inpect the shape of the training and testing.\n",
    "print(train_x.shape)\n",
    "print(train_y.shape)\n",
    "print(test_x.shape)\n",
    "print(test_y.shape)"
   ]
  },
  {
   "cell_type": "code",
   "execution_count": 29,
   "metadata": {},
   "outputs": [],
   "source": [
    "#train_x=np.reshape(train_x,(373,10800))\n",
    "#print(train_x.shape)\n",
    "\n",
    "#test_x=np.reshape(test_x,(20,10800))\n",
    "#test_x.shape\n",
    "\n"
   ]
  },
  {
   "cell_type": "code",
   "execution_count": 20,
   "metadata": {},
   "outputs": [],
   "source": [
    "import tensorflow as tf\n",
    "# Number of classes, one class for each of 5 flower.\n",
    "num_classes = 3\n",
    "\n",
    "# flattened imge\n",
    "n_input = 10800\n",
    "\n",
    "\n",
    "# architecture hyper-parameter\n",
    "learning_rate = 0.001\n",
    "training_iters = 10\n",
    "batch_size = 16\n",
    "display_step = 20"
   ]
  },
  {
   "cell_type": "code",
   "execution_count": 25,
   "metadata": {},
   "outputs": [
    {
     "name": "stdout",
     "output_type": "stream",
     "text": [
      "WARNING:tensorflow:From C:\\Users\\dell\\AppData\\Roaming\\Python\\Python38\\site-packages\\tensorflow\\python\\compat\\v2_compat.py:107: disable_resource_variables (from tensorflow.python.ops.variable_scope) is deprecated and will be removed in a future version.\n",
      "Instructions for updating:\n",
      "non-resource variables are not supported in the long term\n",
      "Shape of placeholder (?, 60, 60, 3) (?, 3)\n"
     ]
    }
   ],
   "source": [
    "import tensorflow.compat.v1 as tf\n",
    "tf.disable_v2_behavior()\n",
    "img_size=60\n",
    "num_channels=3\n",
    "#x = tf.placeholder(tf.float32, [None, n_input])\n",
    "x = tf.placeholder(tf.float32, shape=[None, img_size,img_size,num_channels])  # None,60,60,3\n",
    "\n",
    "y_ = tf.placeholder(tf.float32, [None, num_classes]) # None,3\n",
    "\n",
    "\n",
    "\n",
    "print('Shape of placeholder',x.shape, y_.shape)\n"
   ]
  },
  {
   "cell_type": "markdown",
   "metadata": {},
   "source": [
    "# How Convolutional Neural Network Work?"
   ]
  },
  {
   "cell_type": "code",
   "execution_count": 22,
   "metadata": {},
   "outputs": [],
   "source": [
    "# optional use- if you want to add bias in conv layer then use this function by calling it in conv_net model\n",
    "def conv2d(x, W, b, strides=1):\n",
    "    x = tf.nn.conv2d(x, W, strides=[1, strides, strides, 1], padding='SAME')   # summation = wx+b, Activation\n",
    "    x = tf.nn.bias_add(x, b)\n",
    "    return tf.nn.relu(x)\n",
    "\n",
    "def maxpool2d(x, k=2):\n",
    "    return tf.nn.max_pool(x, ksize=[1, k, k, 1], strides=[1, k, k, 1], padding='SAME')\n"
   ]
  },
  {
   "cell_type": "code",
   "execution_count": 26,
   "metadata": {},
   "outputs": [],
   "source": [
    "weights = {\n",
    "    'w1': tf.Variable(tf.random.normal([5, 5, 3, 32]),name='w1'),\n",
    "    'w2': tf.Variable(tf.random.normal([5, 5, 32, 64]),name='w2'),\n",
    "    'w3': tf.Variable(tf.random.normal([5, 5, 64, 128]),name='w3'),\n",
    "    'wd1': tf.Variable(tf.random.normal([8 * 8 * 128, 2048]),name='wd1'),  \n",
    "    'wout': tf.Variable(tf.random.normal([2048, num_classes]),name='wout')\n",
    "}\n",
    "\n",
    "biases = {\n",
    "    'b1': tf.Variable(tf.random.normal([32]),name='b1'),\n",
    "    'b2': tf.Variable(tf.random.normal([64]),name='b2'),\n",
    "    'b3': tf.Variable(tf.random.normal([128]),name='b3'),\n",
    "    'bd1': tf.Variable(tf.random.normal([2048]),name='bd1'),\n",
    "    'bout': tf.Variable(tf.random.normal([num_classes]),name='bout')\n",
    "}"
   ]
  },
  {
   "cell_type": "code",
   "execution_count": 27,
   "metadata": {},
   "outputs": [],
   "source": [
    "def conv_net(x, weights, biases):\n",
    "        \n",
    "    # reshape input to 60x60x3 size\n",
    "    x = tf.reshape(x, shape=[-1, 60, 60, 3])  \n",
    "    \n",
    "    print(\"###########################################################################\")\n",
    "    print(\"size of x is\")\n",
    "    print(x.shape)\n",
    "    \n",
    "  \n",
    "    conv1 = conv2d(x, weights['w1'], biases['b1'])\n",
    "    conv1 = maxpool2d(conv1, k=2)\n",
    "    print(\"###########################################################################\")\n",
    "    print(\"size after 1st conv layer is \")\n",
    "    print(conv1.shape)\n",
    "\n",
    "    \n",
    "    #input is 30*30*32 image\n",
    "    # Convolution Layer\n",
    "    conv2 = conv2d(conv1, weights['w2'], biases['b2'])\n",
    "    conv2 = maxpool2d(conv2, k=2)\n",
    "    print(\"###########################################################################\")\n",
    "    print(\"size after 2nd conv and pooling layer is\")\n",
    "    print(conv2.shape)\n",
    "    \n",
    "    \n",
    "    ### third conv layer\n",
    "    # input is 15*15*64 image\n",
    "    # Convolution Layer\n",
    "    conv3 = conv2d(conv2, weights['w3'], biases['b3'])\n",
    "  \n",
    "    conv3 = maxpool2d(conv3, k=2)\n",
    "    print(\"###########################################################################\")\n",
    "    print(\"size after 3rd conv and pooling layer is\")\n",
    "    print(conv3.shape)\n",
    "    \n",
    "    \n",
    "    \n",
    "    #input is 8*8*128 \n",
    "\n",
    "    # Fully connected layer\n",
    "    # Reshape conv3 output to fit fully connected layer input   = 8*8*128 = 8192\n",
    "    fc1 = tf.reshape(conv3, [-1, weights['wd1'].get_shape().as_list()[0]])\n",
    "    print(\"###########################################################################\")\n",
    "    print(\"shape after flattening the image\")\n",
    "    print(fc1)  #8192 is the output\n",
    "    \n",
    "    \n",
    "    fc1 = tf.add(tf.matmul(fc1, weights['wd1']), biases['bd1'])\n",
    "    fc1 = tf.nn.relu(fc1)\n",
    "    print(\"###########################################################################\")\n",
    "    print(\"shape after fully connected layer\")\n",
    "    print(fc1)\n",
    "    \n",
    "    \n",
    "    # Output, class prediction\n",
    "    # finally we multiply the fully connected layer with the weights and add a bias term. \n",
    "    out = tf.add(tf.matmul(fc1, weights['wout']), biases['bout'])\n",
    "    print(\"###########################################################################\")\n",
    "    print(\"Output layer\")\n",
    "    return out"
   ]
  },
  {
   "cell_type": "code",
   "execution_count": 28,
   "metadata": {},
   "outputs": [
    {
     "name": "stdout",
     "output_type": "stream",
     "text": [
      "###########################################################################\n",
      "size of x is\n",
      "(?, 60, 60, 3)\n",
      "###########################################################################\n",
      "size after 1st conv layer is \n",
      "(?, 30, 30, 32)\n",
      "###########################################################################\n",
      "size after 2nd conv and pooling layer is\n",
      "(?, 15, 15, 64)\n",
      "###########################################################################\n",
      "size after 3rd conv and pooling layer is\n",
      "(?, 8, 8, 128)\n",
      "###########################################################################\n",
      "shape after flattening the image\n",
      "Tensor(\"Reshape_1:0\", shape=(?, 8192), dtype=float32)\n",
      "###########################################################################\n",
      "shape after fully connected layer\n",
      "Tensor(\"Relu_3:0\", shape=(?, 2048), dtype=float32)\n",
      "###########################################################################\n",
      "Output layer\n",
      "Tensor(\"Add_1:0\", shape=(?, 3), dtype=float32)\n"
     ]
    }
   ],
   "source": [
    "# Create the model\n",
    "model = conv_net(x, weights, biases)\n",
    "print(model)"
   ]
  },
  {
   "cell_type": "code",
   "execution_count": 29,
   "metadata": {},
   "outputs": [
    {
     "name": "stdout",
     "output_type": "stream",
     "text": [
      "WARNING:tensorflow:From C:\\Users\\dell\\AppData\\Roaming\\Python\\Python38\\site-packages\\tensorflow\\python\\util\\dispatch.py:1082: softmax_cross_entropy_with_logits (from tensorflow.python.ops.nn_ops) is deprecated and will be removed in a future version.\n",
      "Instructions for updating:\n",
      "\n",
      "Future major versions of TensorFlow will allow gradients to flow\n",
      "into the labels input on backprop by default.\n",
      "\n",
      "See `tf.nn.softmax_cross_entropy_with_logits_v2`.\n",
      "\n"
     ]
    }
   ],
   "source": [
    "# Define loss and optimizer\n",
    "cost = tf.reduce_mean(tf.nn.softmax_cross_entropy_with_logits(logits=model, labels=y_))\n",
    "optimizer = tf.train.AdamOptimizer(learning_rate=learning_rate).minimize(cost)\n"
   ]
  },
  {
   "cell_type": "code",
   "execution_count": 30,
   "metadata": {},
   "outputs": [],
   "source": [
    "# Initializing the variables\n",
    "init = tf.global_variables_initializer()"
   ]
  },
  {
   "cell_type": "code",
   "execution_count": 31,
   "metadata": {},
   "outputs": [
    {
     "name": "stdout",
     "output_type": "stream",
     "text": [
      "epoch :  0  -  cost:  6340847.0\n",
      "epoch :  1  -  cost:  2135921.0\n",
      "epoch :  2  -  cost:  4678752.0\n",
      "epoch :  3  -  cost:  3280379.2\n",
      "epoch :  4  -  cost:  2844752.0\n",
      "epoch :  5  -  cost:  1798395.1\n",
      "epoch :  6  -  cost:  1679529.0\n",
      "epoch :  7  -  cost:  2138073.5\n",
      "epoch :  8  -  cost:  1671780.0\n",
      "epoch :  9  -  cost:  1655551.1\n"
     ]
    }
   ],
   "source": [
    "cost_history=[]\n",
    "n_epochs =10\n",
    "# the execution\n",
    "sess = tf.Session()\n",
    "sess.run(init)\n",
    "\n",
    "train_y=train_y.todense()\n",
    "\n",
    "for i in range(n_epochs):\n",
    "    a, c = sess.run([optimizer, cost], feed_dict={x: train_x, y_: train_y})  #working\n",
    "    cost_history = np.append(cost_history,c)  # working\n",
    "    print('epoch : ', i,  ' - ', 'cost: ', c) #working \n"
   ]
  },
  {
   "cell_type": "code",
   "execution_count": 32,
   "metadata": {},
   "outputs": [
    {
     "name": "stdout",
     "output_type": "stream",
     "text": [
      "Accuracy:  0.14285715\n"
     ]
    }
   ],
   "source": [
    "\n",
    "\n",
    "test_y=test_y.todense()  #working solution of ValueError: setting an array element with a sequence.\n",
    "#print(test_y)\n",
    "\n",
    "correct_prediction = tf.equal(tf.argmax(model,1), tf.argmax(y_,1))   \n",
    "correct_prediction \n",
    "\n",
    "accuracy = tf.reduce_mean(tf.cast(correct_prediction, tf.float32))\n",
    "accuracy\n",
    "\n",
    "\n",
    "# retrun the accuracy on the test set.\n",
    "print(\"Accuracy: \", sess.run(accuracy, feed_dict={x: test_x, y_:test_y}))"
   ]
  },
  {
   "cell_type": "code",
   "execution_count": null,
   "metadata": {},
   "outputs": [],
   "source": []
  },
  {
   "cell_type": "code",
   "execution_count": null,
   "metadata": {},
   "outputs": [],
   "source": []
  }
 ],
 "metadata": {
  "kernelspec": {
   "display_name": "Python 3",
   "language": "python",
   "name": "python3"
  },
  "language_info": {
   "codemirror_mode": {
    "name": "ipython",
    "version": 3
   },
   "file_extension": ".py",
   "mimetype": "text/x-python",
   "name": "python",
   "nbconvert_exporter": "python",
   "pygments_lexer": "ipython3",
   "version": "3.8.3"
  }
 },
 "nbformat": 4,
 "nbformat_minor": 2
}
